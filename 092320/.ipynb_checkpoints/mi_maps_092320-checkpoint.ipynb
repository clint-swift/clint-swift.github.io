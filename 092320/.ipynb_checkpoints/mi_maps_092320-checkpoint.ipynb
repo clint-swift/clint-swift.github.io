{
 "cells": [
  {
   "cell_type": "code",
   "execution_count": 1,
   "metadata": {},
   "outputs": [],
   "source": [
    "import numpy as np\n",
    "import pandas as pd\n",
    "import plotly.graph_objects as go \n",
    "import plotly.express as px\n",
    "from urllib.request import urlopen\n",
    "import json\n",
    "with urlopen('https://raw.githubusercontent.com/plotly/datasets/master/geojson-counties-fips.json') as response:\n",
    "    counties = json.load(response)"
   ]
  },
  {
   "cell_type": "code",
   "execution_count": 2,
   "metadata": {},
   "outputs": [],
   "source": [
    "#load the snapshot \n",
    "#fill in date\n",
    "snapdate='2020-09-23'\n",
    "file = \"MI_\"+snapdate+\".csv\"\n",
    "mi_df = pd.read_csv(file, low_memory=False)"
   ]
  },
  {
   "cell_type": "code",
   "execution_count": 3,
   "metadata": {},
   "outputs": [],
   "source": [
    "#Formats and placeholders\n",
    "mi_df['total'] = 1\n",
    "mi_df['state'] = 'MI'\n",
    "for col in mi_df[['appreturned', 'datesent', 'datereturned']]:\n",
    "    mi_df[col] = pd.to_datetime(mi_df[col], format='%Y-%m-%d')"
   ]
  },
  {
   "cell_type": "code",
   "execution_count": 4,
   "metadata": {},
   "outputs": [],
   "source": [
    "#mail delivery estimates...\n",
    "mail = mi_df[mi_df['appreturned']>='2020-08-05'].copy()\n",
    "#mail = mi_df\n",
    "mail['mail_est'] = mail['datereturned'] - mail['datesent']\n",
    "mail['mail_est'] = mail['mail_est']/np.timedelta64(1,'D')\n",
    "mail['x'] = np.where((mail['datereturned'].isna()==False)\n",
    "                     & (mail['datesent'].isna()==False), 1,0)"
   ]
  },
  {
   "cell_type": "code",
   "execution_count": 5,
   "metadata": {},
   "outputs": [],
   "source": [
    "#Aggregate to dif jurs.\n",
    "mail_state = mail.groupby(['state']).agg({'x':'sum', 'total':'count','mail_est':'mean'}).reset_index()\n",
    "mail_county = mail.groupby(['county']).agg({'x':'sum', 'total':'count','mail_est':'mean'}).reset_index()\n",
    "mail_jur = mail.groupby(['jurisdiction']).agg({'x':'sum', 'total':'count','mail_est':'mean'}).reset_index()\n",
    "mail_prec = mail.groupby(['jurisdiction', 'cbprecinct']).agg({'x':'sum','total':'count','mail_est':'mean'}).reset_index()\n",
    "for df in (mail_state, mail_county, mail_jur, mail_prec):\n",
    "    df['return_p'] = (df['x'] / df['total'])*100"
   ]
  },
  {
   "cell_type": "code",
   "execution_count": 6,
   "metadata": {},
   "outputs": [],
   "source": [
    "#Merge in fips for mapping\n",
    "fips = pd.read_csv('../mi_cfips.csv', dtype={\"fips\": str})\n",
    "fips['county'] = fips['county'].str.strip()\n",
    "mail_county['county'] = mail_county['county'].str.strip()\n",
    "m_c = pd.merge(mail_county, fips,\n",
    "                    left_on = 'county',\n",
    "                    right_on='county',\n",
    "                    how='inner')"
   ]
  },
  {
   "cell_type": "code",
   "execution_count": 7,
   "metadata": {},
   "outputs": [],
   "source": [
    "#Average days for ballot return\n",
    "m_c['z']=0\n",
    "m_c['county']=m_c['county'].str.title()\n",
    "fig=go.Figure(data=go.Choropleth(geojson=counties, locations=m_c['fips'], z=m_c['z'],\n",
    "                                  colorscale=[[0, 'grey'], [1, 'grey']], showscale=False, name='Missing Data',\n",
    "                                 hovertemplate = \"<b>%{text}</b><br>\" + 'No Data Available',\n",
    "                                text=m_c['county']))\n",
    "fig.add_trace(go.Choropleth(geojson=counties, locations=m_c['fips'], z=m_c['mail_est'],\n",
    "                            colorscale=px.colors.sequential.Greens, name='Average Days',\n",
    "                            text=m_c['county'],\n",
    "                           hovertemplate = \"<b>%{text}</b><br>\" +\n",
    "                            'Average Days: %{z:.2f}<extra></extra>',\n",
    "                           colorbar=dict(thickness=60,\n",
    "                                         tickfont=dict(size=20, \n",
    "                                                       family=\"Roboto\"))))\n",
    "hv=fig.update_layout(\n",
    "    hoverlabel=dict(\n",
    "        font_size=16,\n",
    "        font_family=\"Roboto\"\n",
    "    )\n",
    ")\n",
    "fig.update_geos(fitbounds=\"locations\", visible=False)\n",
    "fig.update_layout(margin={\"r\":0,\"t\":0,\"l\":0,\"b\":0})\n",
    "#fig.show()\n",
    "#fig.write_image(\"mi_mail_est.png\", width=700, height=300, scale=4)\n",
    "fig.write_html('maps_mail_days.html', include_plotlyjs='cdn')"
   ]
  },
  {
   "cell_type": "code",
   "execution_count": 8,
   "metadata": {},
   "outputs": [],
   "source": [
    "# % Ballots returned\n",
    "#set for outliers\n",
    "m_c['rp']=np.where(m_c['return_p']>=10, np.nan, m_c['return_p'])\n",
    "\n",
    "fig=go.Figure(data=go.Choropleth(geojson=counties, locations=m_c['fips'], z=m_c['return_p'],\n",
    "                                  colorscale=px.colors.sequential.Greens, showscale=False,\n",
    "                                hovertemplate = \"<b>%{text}</b><br>\" +\n",
    "                            'Sent Ballots Retuned: %{z:.2f}%<extra></extra>',\n",
    "                                text=m_c['county']))\n",
    "fig.add_trace(go.Choropleth(geojson=counties, locations=m_c['fips'], z=m_c['rp'],\n",
    "                            colorscale=px.colors.sequential.Greens, text=m_c['county'],\n",
    "                           hovertemplate = \"<b>%{text}</b><br>\" +\n",
    "                            'Sent Ballots Retuned: %{z:.2f}%<extra></extra>',\n",
    "                           colorbar=dict(thickness=60,\n",
    "                                         tickfont=dict(size=20, \n",
    "                                                       family=\"Roboto\"))))\n",
    "hv=fig.update_layout(\n",
    "    hoverlabel=dict(\n",
    "        font_size=16,\n",
    "        font_family=\"Roboto\"\n",
    "    )\n",
    ")\n",
    "fig.update_geos(fitbounds=\"locations\", visible=False)\n",
    "fig.update_layout(margin={\"r\":0,\"t\":0,\"l\":0,\"b\":0})\n",
    "#fig.show()\n",
    "#fig.write_image(\"mi_return_p.png\", width=700, height=300, scale=4)\n",
    "fig.write_html('maps_ret_per.html', include_plotlyjs='cdn')"
   ]
  },
  {
   "cell_type": "code",
   "execution_count": 9,
   "metadata": {},
   "outputs": [],
   "source": [
    "#Unprocessed applications...\n",
    "ua = mi_df[mi_df['appreturned']>='2020-08-05'].copy()\n",
    "ua['x'] = np.where(ua['datesent'].isna()==True, 1, 0)  \n",
    "ua['diff'] = ua['datesent'] - ua['appreturned']\n",
    "ua['diff'] = ua['diff']/np.timedelta64(1,'D')\n",
    "ua['ua_td'] =  pd.to_datetime(snapdate, format='%Y-%m-%d') - ua['appreturned']\n",
    "ua['ua_td'] = ua['ua_td']/np.timedelta64(1,'D')\n",
    "\n",
    "for col in ua[['diff', 'ua_td']]:\n",
    "    ua[col] = np.where(ua[col]<0, np.nan, ua[col])\n",
    "\n",
    "ua['diff'] = np.where(ua['diff'].isna()==True, ua['ua_td'], ua['diff'])\n",
    "ua['diff'] = np.where(ua['ua_td'].isna()==True, np.nan, ua['diff'])\n",
    "ua = ua[['state', 'county', 'jurisdiction', 'cbprecinct', 'x', 'diff', 'total']].copy()"
   ]
  },
  {
   "cell_type": "code",
   "execution_count": 10,
   "metadata": {},
   "outputs": [],
   "source": [
    "#collapse to jurs\n",
    "ua_state = ua.groupby(['state']).agg({'x':'sum', 'total':'count','diff':'mean'}).reset_index()\n",
    "ua_county = ua.groupby(['county']).agg({'x':'sum', 'total':'count','diff':'mean'}).reset_index()\n",
    "ua_jur = ua.groupby(['jurisdiction']).agg({'x':'sum', 'total':'count','diff':'mean'}).reset_index()\n",
    "ua_prec = ua.groupby(['jurisdiction', 'cbprecinct']).agg({'x':'sum','total':'count','diff':'mean'}).reset_index()\n",
    "for df in (ua_state, ua_county, ua_jur, ua_prec):\n",
    "    df['ua_p'] = (df['x'] / df['total'])*100"
   ]
  },
  {
   "cell_type": "code",
   "execution_count": 11,
   "metadata": {},
   "outputs": [],
   "source": [
    "#merge in fips\n",
    "ua_county['county'] = ua_county['county'].str.strip()\n",
    "county = pd.merge(ua_county, fips,\n",
    "                    left_on = 'county',\n",
    "                    right_on='county',\n",
    "                    how='outer',\n",
    "                    indicator=True)"
   ]
  },
  {
   "cell_type": "code",
   "execution_count": 12,
   "metadata": {},
   "outputs": [],
   "source": [
    "#\n",
    "county['z']=1\n",
    "county['county']=county['county'].str.title()\n",
    "fig=go.Figure(data=go.Choropleth(geojson=counties, locations=m_c['fips'], z=county['z'],\n",
    "                                  colorscale=[[0, 'grey'], [1, 'grey']], showscale=False,\n",
    "                                 hovertemplate = \"<b>%{text}</b><br>\" + 'No Data Available',\n",
    "                                 text=m_c['county']))\n",
    "fig.add_trace(go.Choropleth(geojson=counties, locations=m_c['fips'], z=county['ua_p'],\n",
    "                            colorscale=px.colors.sequential.Greens, text=m_c['county'],\n",
    "                            hovertemplate = '<b>%{text}</b><br>' + \n",
    "                            'Percent Apps. Unprocessed: %{z:.2f}%<extra></extra>',\n",
    "                           colorbar=dict(thickness=60,\n",
    "                                         tickfont=dict(size=20, \n",
    "                                                       family=\"Roboto\"))))\n",
    "fig.update_geos(fitbounds=\"locations\", visible=False)\n",
    "fig.update_layout(margin={\"r\":0,\"t\":0,\"l\":0,\"b\":0})\n",
    "#fig.show()\n",
    "#fig.write_image(\"mi_ua_p.png\", width=700, height=300, scale=4)\n",
    "fig.write_html('maps_ua_p.html', include_plotlyjs='cdn')"
   ]
  },
  {
   "cell_type": "code",
   "execution_count": 13,
   "metadata": {},
   "outputs": [],
   "source": [
    "fig=go.Figure(data=go.Choropleth(geojson=counties, locations=m_c['fips'], z=county['z'],\n",
    "                                  colorscale=[[0, 'grey'], [1, 'grey']], showscale=False,\n",
    "                                 hovertemplate = \"<b>%{text}</b><br>\" + 'No Data Available',\n",
    "                                 text=m_c['county']))\n",
    "fig.add_trace(go.Choropleth(geojson=counties, locations=m_c['fips'], z=county['diff'],\n",
    "                            colorscale=px.colors.sequential.Greens, text=m_c['county'],\n",
    "                            hovertemplate = '<b>%{text}</b><br>' + \n",
    "                            'Average Days to Process Apps.: %{z:.2f}<extra></extra>',\n",
    "                           colorbar=dict(thickness=60,\n",
    "                                         tickfont=dict(size=20, \n",
    "                                                       family=\"Roboto\"))))\n",
    "fig.update_geos(fitbounds=\"locations\", visible=False)\n",
    "fig.update_layout(margin={\"r\":0,\"t\":0,\"l\":0,\"b\":0})\n",
    "#fig.show()\n",
    "#fig.write_image(\"mi_ua_days.png\", width=700, height=300, scale=4)\n",
    "fig.write_html('maps_ua_days.html', include_plotlyjs='cdn')"
   ]
  },
  {
   "cell_type": "code",
   "execution_count": null,
   "metadata": {},
   "outputs": [],
   "source": []
  }
 ],
 "metadata": {
  "kernelspec": {
   "display_name": "Python 3",
   "language": "python",
   "name": "python3"
  },
  "language_info": {
   "codemirror_mode": {
    "name": "ipython",
    "version": 3
   },
   "file_extension": ".py",
   "mimetype": "text/x-python",
   "name": "python",
   "nbconvert_exporter": "python",
   "pygments_lexer": "ipython3",
   "version": "3.8.3"
  }
 },
 "nbformat": 4,
 "nbformat_minor": 4
}
