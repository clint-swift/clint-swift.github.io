{
 "cells": [
  {
   "cell_type": "code",
   "execution_count": 1,
   "metadata": {},
   "outputs": [],
   "source": [
    "import numpy as np\n",
    "import pandas as pd\n",
    "import plotly.graph_objects as go \n",
    "from plotly.subplots import make_subplots\n",
    "import plotly.figure_factory as ff\n",
    "import re\n",
    "import sys \n",
    "import os\n",
    "# check to make sure 'p' looks \n",
    "# like: /Users/user/path/to/Inspector/src\n",
    "p = os.path.abspath('../../') \n",
    "sys.path.append(p)\n",
    "from swift import *"
   ]
  },
  {
   "cell_type": "code",
   "execution_count": 2,
   "metadata": {},
   "outputs": [],
   "source": [
    "#FOR 9/20 - Michigan\n",
    "#1) Last week's request:\n",
    "    #a) Duplicate records\n",
    "#2) New Report\n",
    "    #a) Changes\n",
    "    #b) Addresses\n",
    "    #c) Standouts"
   ]
  },
  {
   "cell_type": "code",
   "execution_count": 2,
   "metadata": {},
   "outputs": [],
   "source": [
    "#load most recent bs data \n",
    "bs_df = pd.read_csv('mi_bs.csv', low_memory=False) "
   ]
  },
  {
   "cell_type": "code",
   "execution_count": 3,
   "metadata": {},
   "outputs": [
    {
     "data": {
      "text/plain": [
       "False    842489\n",
       "True      10842\n",
       "Name: dupe, dtype: int64"
      ]
     },
     "execution_count": 3,
     "metadata": {},
     "output_type": "execute_result"
    }
   ],
   "source": [
    "#1a Dupes\n",
    "bs_df['dupe']=bs_df.duplicated(subset=['ballotid', 'voterid', 'fullname', 'yob'], keep=False)\n",
    "bs_df['d_id']= bs_df.groupby(['ballotid', 'voterid']).ngroup()\n",
    "bs_df['dupe'].value_counts()"
   ]
  },
  {
   "cell_type": "code",
   "execution_count": 4,
   "metadata": {},
   "outputs": [
    {
     "data": {
      "text/plain": [
       "grand traverse county    10462\n",
       "leelanau county            298\n",
       "isabella county             30\n",
       "gratiot county              16\n",
       "oakland county              10\n",
       "macomb county               10\n",
       "kalamazoo county             8\n",
       "wayne county                 2\n",
       "monroe county                2\n",
       "muskegon county              2\n",
       "midland county               2\n",
       "Name: county, dtype: int64"
      ]
     },
     "execution_count": 4,
     "metadata": {},
     "output_type": "execute_result"
    }
   ],
   "source": [
    "dupe = bs_df[bs_df['dupe']==True]\n",
    "dupe.sort_values(by=['d_id', 'cbprecinct'])\n",
    "dupe['county'].value_counts()"
   ]
  },
  {
   "cell_type": "code",
   "execution_count": 5,
   "metadata": {},
   "outputs": [
    {
     "data": {
      "text/plain": [
       "traverse city city          10760\n",
       "commerce township              10\n",
       "fraser city                    10\n",
       "mount pleasant city            10\n",
       "lincoln township                8\n",
       "portage city                    8\n",
       "fremont township                6\n",
       "bethany township                6\n",
       "washington township             4\n",
       "coe township                    4\n",
       "wheeler township                2\n",
       "monroe city                     2\n",
       "lee township                    2\n",
       "arcada township                 2\n",
       "fulton township                 2\n",
       "isabella township               2\n",
       "norton shores city              2\n",
       "grosse pointe farms city        2\n",
       "Name: jurisdiction, dtype: int64"
      ]
     },
     "execution_count": 5,
     "metadata": {},
     "output_type": "execute_result"
    }
   ],
   "source": [
    "dupe['jurisdiction'].value_counts()"
   ]
  },
  {
   "cell_type": "code",
   "execution_count": 6,
   "metadata": {},
   "outputs": [],
   "source": [
    "dupe['cbprecinct'].value_counts()"
   ]
  },
  {
   "cell_type": "code",
   "execution_count": 16,
   "metadata": {},
   "outputs": [
    {
     "name": "stderr",
     "output_type": "stream",
     "text": [
      "INFO:root:loading from s3 bucket ballotshield: proc_ballot_file/michigan/2020-11-03_general/2020-09-14.csv.gz\n",
      "INFO:root:removed 5421 duplicate ballot_ids\n",
      "INFO:root:loading from s3 bucket ballotshield: proc_ballot_file/michigan/2020-11-03_general/2020-09-14.csv.gz\n",
      "INFO:root:removed 5421 duplicate ballot_ids\n",
      "INFO:root:loading from s3 bucket ballotshield: proc_ballot_file/michigan/2020-11-03_general/2020-09-08.csv.gz\n",
      "INFO:root:removed 5274 duplicate ballot_ids\n",
      "INFO:root:computing file diff\n"
     ]
    }
   ],
   "source": [
    "#2a Changes\n",
    "#grad the modification table\n",
    "p = os.path.abspath('../../Inspector/src') \n",
    "sys.path.append(p)\n",
    "from ballotshield.differencer import BallotDifferencer\n",
    "bd = BallotDifferencer('proc_ballot_file/michigan/2020-11-03_general/2020-09-14.csv.gz')\n",
    "mi_df=bd.load_dataframe_from_s3('proc_ballot_file/michigan/2020-11-03_general/2020-09-14.csv.gz')\n",
    "mod_df = bd.get_mods()"
   ]
  },
  {
   "cell_type": "code",
   "execution_count": 19,
   "metadata": {},
   "outputs": [
    {
     "data": {
      "text/plain": [
       "(847910, 21)"
      ]
     },
     "execution_count": 19,
     "metadata": {},
     "output_type": "execute_result"
    }
   ],
   "source": [
    "mi_df.shape"
   ]
  },
  {
   "cell_type": "code",
   "execution_count": 17,
   "metadata": {},
   "outputs": [
    {
     "data": {
      "text/plain": [
       "added_record      328009\n",
       "ballotnumber        5909\n",
       "cbprecinct           741\n",
       "removed_record       712\n",
       "permav               639\n",
       "datesent             629\n",
       "ballotaddress        235\n",
       "appreturned           58\n",
       "fullname              58\n",
       "uocava                34\n",
       "appsent                7\n",
       "effectivedate          5\n",
       "voterid                3\n",
       "yob                    1\n",
       "Name: change_type, dtype: int64"
      ]
     },
     "execution_count": 17,
     "metadata": {},
     "output_type": "execute_result"
    }
   ],
   "source": [
    "mod_df['change_type'].value_counts()"
   ]
  },
  {
   "cell_type": "code",
   "execution_count": null,
   "metadata": {},
   "outputs": [],
   "source": []
  }
 ],
 "metadata": {
  "kernelspec": {
   "display_name": "Python 3",
   "language": "python",
   "name": "python3"
  },
  "language_info": {
   "codemirror_mode": {
    "name": "ipython",
    "version": 3
   },
   "file_extension": ".py",
   "mimetype": "text/x-python",
   "name": "python",
   "nbconvert_exporter": "python",
   "pygments_lexer": "ipython3",
   "version": "3.8.3"
  }
 },
 "nbformat": 4,
 "nbformat_minor": 4
}
